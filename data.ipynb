{
 "cells": [
  {
   "cell_type": "code",
   "id": "initial_id",
   "metadata": {
    "collapsed": true,
    "ExecuteTime": {
     "end_time": "2025-06-03T12:26:10.534166Z",
     "start_time": "2025-06-03T12:26:10.513220Z"
    }
   },
   "source": [
    "import pandas as pd\n",
    "\n",
    "csv_file = pd.read_csv('data/raw/scrapping_data.csv')\n",
    "csv_file.head()"
   ],
   "outputs": [
    {
     "data": {
      "text/plain": [
       "                                            job_link  \\\n",
       "0  https://aijobs.net/job/1307721-stagiaire-ingen...   \n",
       "1  https://aijobs.net/job/1307599-responsable-dev...   \n",
       "2      https://aijobs.net/job/1307534-data-engineer/   \n",
       "3  https://aijobs.net/job/1307455-it-business-dat...   \n",
       "4   https://aijobs.net/job/1307362-ai-product-owner/   \n",
       "\n",
       "                                           job_title        job_company  \\\n",
       "0  Stagiaire Ingénieur(e) R&D (H/F) Simulation nu...         GE Vernova   \n",
       "1     Responsable développement IA Générative junior  Everience Benelux   \n",
       "2                                      Data Engineer             Sorare   \n",
       "3    IT Business Data Scientist – Business Assurance                SGS   \n",
       "4                                   AI Product Owner         Diabolocom   \n",
       "\n",
       "              job_location          job_contract                 job_level  \\\n",
       "0     Villeurbanne, France  Full Time;Internship      Entry-level / Junior   \n",
       "1  Courbevoie, IDF, France             Full Time      Entry-level / Junior   \n",
       "2                    Paris             Full Time                       NaN   \n",
       "3     Arcueil, IDF, France             Full Time  Mid-level / Intermediate   \n",
       "4                    Paris             Full Time  Mid-level / Intermediate   \n",
       "\n",
       "          job_salary  job_salary_mean  \\\n",
       "0                NaN              NaN   \n",
       "1   EUR 27K - 63K *              45.0   \n",
       "2  EUR 69K - 129K *              99.0   \n",
       "3  EUR 72K - 135K *             103.5   \n",
       "4  EUR 61K - 113K *              87.0   \n",
       "\n",
       "                                            job_tags  \\\n",
       "0                                       Python;R;R&D   \n",
       "1        APIs;Azure;LangChain;LLMs;OpenAI;Python;RAG   \n",
       "2  Agile;Airflow;AWS;BigQuery;Business Intelligen...   \n",
       "3  Data management;Data Mining;Machine Learning;P...   \n",
       "4  Agile;APIs;Data analysis;Engineering;Machine L...   \n",
       "\n",
       "                              job_perks_and_benefits  \n",
       "0                                                NaN  \n",
       "1                                                NaN  \n",
       "2  Fitness / gym;Flex vacation;Gear;Health care;I...  \n",
       "3          Career development;Flex hours;Health care  \n",
       "4          Career development;Flex hours;Team events  "
      ],
      "text/html": [
       "<div>\n",
       "<style scoped>\n",
       "    .dataframe tbody tr th:only-of-type {\n",
       "        vertical-align: middle;\n",
       "    }\n",
       "\n",
       "    .dataframe tbody tr th {\n",
       "        vertical-align: top;\n",
       "    }\n",
       "\n",
       "    .dataframe thead th {\n",
       "        text-align: right;\n",
       "    }\n",
       "</style>\n",
       "<table border=\"1\" class=\"dataframe\">\n",
       "  <thead>\n",
       "    <tr style=\"text-align: right;\">\n",
       "      <th></th>\n",
       "      <th>job_link</th>\n",
       "      <th>job_title</th>\n",
       "      <th>job_company</th>\n",
       "      <th>job_location</th>\n",
       "      <th>job_contract</th>\n",
       "      <th>job_level</th>\n",
       "      <th>job_salary</th>\n",
       "      <th>job_salary_mean</th>\n",
       "      <th>job_tags</th>\n",
       "      <th>job_perks_and_benefits</th>\n",
       "    </tr>\n",
       "  </thead>\n",
       "  <tbody>\n",
       "    <tr>\n",
       "      <th>0</th>\n",
       "      <td>https://aijobs.net/job/1307721-stagiaire-ingen...</td>\n",
       "      <td>Stagiaire Ingénieur(e) R&amp;D (H/F) Simulation nu...</td>\n",
       "      <td>GE Vernova</td>\n",
       "      <td>Villeurbanne, France</td>\n",
       "      <td>Full Time;Internship</td>\n",
       "      <td>Entry-level / Junior</td>\n",
       "      <td>NaN</td>\n",
       "      <td>NaN</td>\n",
       "      <td>Python;R;R&amp;D</td>\n",
       "      <td>NaN</td>\n",
       "    </tr>\n",
       "    <tr>\n",
       "      <th>1</th>\n",
       "      <td>https://aijobs.net/job/1307599-responsable-dev...</td>\n",
       "      <td>Responsable développement IA Générative junior</td>\n",
       "      <td>Everience Benelux</td>\n",
       "      <td>Courbevoie, IDF, France</td>\n",
       "      <td>Full Time</td>\n",
       "      <td>Entry-level / Junior</td>\n",
       "      <td>EUR 27K - 63K *</td>\n",
       "      <td>45.0</td>\n",
       "      <td>APIs;Azure;LangChain;LLMs;OpenAI;Python;RAG</td>\n",
       "      <td>NaN</td>\n",
       "    </tr>\n",
       "    <tr>\n",
       "      <th>2</th>\n",
       "      <td>https://aijobs.net/job/1307534-data-engineer/</td>\n",
       "      <td>Data Engineer</td>\n",
       "      <td>Sorare</td>\n",
       "      <td>Paris</td>\n",
       "      <td>Full Time</td>\n",
       "      <td>NaN</td>\n",
       "      <td>EUR 69K - 129K *</td>\n",
       "      <td>99.0</td>\n",
       "      <td>Agile;Airflow;AWS;BigQuery;Business Intelligen...</td>\n",
       "      <td>Fitness / gym;Flex vacation;Gear;Health care;I...</td>\n",
       "    </tr>\n",
       "    <tr>\n",
       "      <th>3</th>\n",
       "      <td>https://aijobs.net/job/1307455-it-business-dat...</td>\n",
       "      <td>IT Business Data Scientist – Business Assurance</td>\n",
       "      <td>SGS</td>\n",
       "      <td>Arcueil, IDF, France</td>\n",
       "      <td>Full Time</td>\n",
       "      <td>Mid-level / Intermediate</td>\n",
       "      <td>EUR 72K - 135K *</td>\n",
       "      <td>103.5</td>\n",
       "      <td>Data management;Data Mining;Machine Learning;P...</td>\n",
       "      <td>Career development;Flex hours;Health care</td>\n",
       "    </tr>\n",
       "    <tr>\n",
       "      <th>4</th>\n",
       "      <td>https://aijobs.net/job/1307362-ai-product-owner/</td>\n",
       "      <td>AI Product Owner</td>\n",
       "      <td>Diabolocom</td>\n",
       "      <td>Paris</td>\n",
       "      <td>Full Time</td>\n",
       "      <td>Mid-level / Intermediate</td>\n",
       "      <td>EUR 61K - 113K *</td>\n",
       "      <td>87.0</td>\n",
       "      <td>Agile;APIs;Data analysis;Engineering;Machine L...</td>\n",
       "      <td>Career development;Flex hours;Team events</td>\n",
       "    </tr>\n",
       "  </tbody>\n",
       "</table>\n",
       "</div>"
      ]
     },
     "execution_count": 7,
     "metadata": {},
     "output_type": "execute_result"
    }
   ],
   "execution_count": 7
  },
  {
   "metadata": {
    "ExecuteTime": {
     "end_time": "2025-06-03T12:12:27.045626Z",
     "start_time": "2025-06-03T12:12:27.039764Z"
    }
   },
   "cell_type": "code",
   "source": "csv_file['job_real_salary'] = csv_file['job_salary']",
   "id": "3ced20ac1e12b4cf",
   "outputs": [
    {
     "data": {
      "text/plain": [
       "(50, 9)"
      ]
     },
     "execution_count": 6,
     "metadata": {},
     "output_type": "execute_result"
    }
   ],
   "execution_count": 6
  },
  {
   "metadata": {},
   "cell_type": "markdown",
   "source": "",
   "id": "e1e6af6eb7c8611f"
  }
 ],
 "metadata": {
  "kernelspec": {
   "display_name": "Python 3",
   "language": "python",
   "name": "python3"
  },
  "language_info": {
   "codemirror_mode": {
    "name": "ipython",
    "version": 2
   },
   "file_extension": ".py",
   "mimetype": "text/x-python",
   "name": "python",
   "nbconvert_exporter": "python",
   "pygments_lexer": "ipython2",
   "version": "2.7.6"
  }
 },
 "nbformat": 4,
 "nbformat_minor": 5
}
